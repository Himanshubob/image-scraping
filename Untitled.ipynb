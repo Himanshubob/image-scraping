{
 "cells": [
  {
   "cell_type": "code",
   "execution_count": 1,
   "id": "f2835595-2349-4e54-930b-dd348afa6efb",
   "metadata": {},
   "outputs": [],
   "source": [
    "import requests\n",
    "from bs4 import BeautifulSoup\n",
    "from urllib.request import urlopen as uReq\n",
    "import logging\n",
    "import os\n"
   ]
  },
  {
   "cell_type": "code",
   "execution_count": 2,
   "id": "f6a9a305-d8bf-4164-8bdd-073881164d50",
   "metadata": {},
   "outputs": [],
   "source": [
    "save_dir=\"image/\"\n",
    "if not os.path.exists(save_dir):\n",
    "    os.makedirs(save_dir)"
   ]
  },
  {
   "cell_type": "code",
   "execution_count": 8,
   "id": "824082a1-c900-45cb-8121-54c3b3a25623",
   "metadata": {},
   "outputs": [],
   "source": [
    "qurey=\"krishna\"\n",
    "response=requests.get(f\"https://www.google.com/search?sxsrf=AB5stBh3lL6tJytWa7cTgS5CerCeNN3MDw:1689752113210&q={qurey}&tbm=isch&sa=X&ved=2ahUKEwjQmN2ToZqAAxVH0GEKHUqIBAcQ0pQJegQIDRAB&cshid=1689752116376693&biw=1536&bih=746&dpr=1.25\")"
   ]
  },
  {
   "cell_type": "code",
   "execution_count": 9,
   "id": "5607be2d-50c5-4fd3-8948-9ffede94c653",
   "metadata": {},
   "outputs": [
    {
     "data": {
      "text/plain": [
       "<requests.adapters.HTTPAdapter at 0x7f06615501c0>"
      ]
     },
     "execution_count": 9,
     "metadata": {},
     "output_type": "execute_result"
    }
   ],
   "source": [
    "response.connection"
   ]
  },
  {
   "cell_type": "code",
   "execution_count": 10,
   "id": "1848b0c3-b1e9-4f03-94e9-5441f8403bb9",
   "metadata": {},
   "outputs": [],
   "source": [
    "soup=BeautifulSoup(response.content,'html.parser')"
   ]
  },
  {
   "cell_type": "code",
   "execution_count": 11,
   "id": "b0fc685e-9923-43b9-9cfa-34157a085035",
   "metadata": {},
   "outputs": [],
   "source": [
    "images_tags=soup.find_all(\"img\")"
   ]
  },
  {
   "cell_type": "code",
   "execution_count": 12,
   "id": "a088eed4-8d3a-404e-ad03-7689317b781a",
   "metadata": {},
   "outputs": [
    {
     "data": {
      "text/plain": [
       "21"
      ]
     },
     "execution_count": 12,
     "metadata": {},
     "output_type": "execute_result"
    }
   ],
   "source": [
    "len( images_tags)"
   ]
  },
  {
   "cell_type": "code",
   "execution_count": 13,
   "id": "4a909457-ed45-4cd0-9279-cb67de848829",
   "metadata": {},
   "outputs": [],
   "source": [
    "del images_tags[0]"
   ]
  },
  {
   "cell_type": "code",
   "execution_count": 21,
   "id": "9b8c45ef-92b5-492c-8cf3-17f40b88b984",
   "metadata": {},
   "outputs": [],
   "source": [
    " img_data_mongo=[]\n",
    "for i in images_tags:\n",
    "    image_url=i['src']\n",
    "    image_data=requests.get(image_url).content\n",
    "    mydict={\"index\":image_url,\"image\":image_data}\n",
    "    img_data_mongo.append(mydict)\n",
    "    with open(os.path.join(save_dir, f\"{qurey}_{images_tags.index(i)}.jpg\"),\"wb\") as f:\n",
    "              f.write(image_data)\n",
    "              "
   ]
  },
  {
   "cell_type": "code",
   "execution_count": null,
   "id": "6c1f313e-8035-4ae3-94e6-d9a362bc944a",
   "metadata": {},
   "outputs": [],
   "source": []
  }
 ],
 "metadata": {
  "kernelspec": {
   "display_name": "Python 3 (ipykernel)",
   "language": "python",
   "name": "python3"
  },
  "language_info": {
   "codemirror_mode": {
    "name": "ipython",
    "version": 3
   },
   "file_extension": ".py",
   "mimetype": "text/x-python",
   "name": "python",
   "nbconvert_exporter": "python",
   "pygments_lexer": "ipython3",
   "version": "3.10.8"
  }
 },
 "nbformat": 4,
 "nbformat_minor": 5
}
